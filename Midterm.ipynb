{
  "nbformat": 4,
  "nbformat_minor": 0,
  "metadata": {
    "colab": {
      "provenance": [],
      "collapsed_sections": [
        "-kj11nkXk-hw",
        "QC0uBOVoptsR",
        "Jo-uDCsT05RM",
        "ZX1aGi9vXqw1",
        "vcv8jDbP1V7D",
        "JJJAUe5-1xcc"
      ],
      "authorship_tag": "ABX9TyMGh6xE/ZCcxi5j5gZLG1os",
      "include_colab_link": true
    },
    "kernelspec": {
      "name": "python3",
      "display_name": "Python 3"
    },
    "language_info": {
      "name": "python"
    }
  },
  "cells": [
    {
      "cell_type": "markdown",
      "metadata": {
        "id": "view-in-github",
        "colab_type": "text"
      },
      "source": [
        "<a href=\"https://colab.research.google.com/github/LoganHaviland/Computational_Methods_for_FinTech/blob/main/Midterm.ipynb\" target=\"_parent\"><img src=\"https://colab.research.google.com/assets/colab-badge.svg\" alt=\"Open In Colab\"/></a>"
      ]
    },
    {
      "cell_type": "markdown",
      "source": [
        "# **Midterm for Computation Methods for FinTech**"
      ],
      "metadata": {
        "id": "m16Xp3YSXj98"
      }
    },
    {
      "cell_type": "markdown",
      "source": [
        "## The Political Economy of Financial Technology and Innovation\n",
        "## Part I. Foundations"
      ],
      "metadata": {
        "id": "-kj11nkXk-hw"
      }
    },
    {
      "cell_type": "markdown",
      "source": [
        "### **1.1 The Market Order or Catallaxy**"
      ],
      "metadata": {
        "id": "QC0uBOVoptsR"
      }
    },
    {
      "cell_type": "markdown",
      "source": [
        "**Q1.**  In a series of articles James M. Buchanan differentiated between political economy and economic science. What is\n",
        "the difference? How does it apply to FinTech and Data Science? Does it make sense to speak of a Political Economy of\n",
        "Financial Technology? What would that mean? What are the weaknesses of such an approach? What is your position on\n",
        "this claim? Defend it!\n"
      ],
      "metadata": {
        "id": "zb1IzkqWp1Kg"
      }
    },
    {
      "cell_type": "markdown",
      "source": [
        "A1. The difference between political economy and economic science I think is both in scope and focus. Economic science he delineates as becoming a computational science of maximizing/minimizing objective functions (allocating scare resources) - with the real world as an abstraction to the model. Science takes away the idea of \"choice\" that is essential to the discipline. Political economy includes more of the real world in institutions, and process. It is more broad and deep then economic science. Each has their role to play. Buchanan in \"What Should Economists Do? says that while political economy is a better term, what we should actually be focused on is catallatics or the theory and focus on exchange.\n",
        "\n",
        "I think that we can view FinTech and Data Science in a similar sense to how Buchanan saw Economics, either as a science where we are simply doing mathmatical calculations with the economics or real world behavior abstracted from the model, or we can take the a more full view that involves the institutions, politics, and circumstances of the time.\n",
        "\n",
        "Speaking about the Political Economy of Financial Technology is what real life entrepreneurs are actively involved in. They don't just do calucations and come up with products of their own. They are keenly aware of the political environemnt, of regulations, instutitions (banks, exchanges, etc), of process, and markets (opportunities, troubles, difficulties, etc).\n",
        "\n",
        "There will always be tradeoff to every decision we make-this is true with economic modeling and FinTech as well. \"No model is correct, but some are useful\", there will also be some abstraction to ideas and models but that doesn't mean we should stop altogether. The key is acknowleding what we don't know and not just ignoring it. We should fully explain why we do what we do, what it can do and what it cannot, and importantly to not rely solely on it in the real world. Don't try and have it replace the process of our local and tacit knowledge. We are rarely if ever in a market equillibrium."
      ],
      "metadata": {
        "id": "TXvtUy3yqSCh"
      }
    },
    {
      "cell_type": "markdown",
      "source": [
        "\n",
        "### **1.2 The Knowledge Problem and Artifical Intelligence**"
      ],
      "metadata": {
        "id": "Jo-uDCsT05RM"
      }
    },
    {
      "cell_type": "markdown",
      "source": [
        "**Q2.** Analyze Parkes’ and Wellman’s machina economicus project in terms of the Hayekian knowledge problem. If humans\n",
        "cannot be relied upon to optimally allocate resources in the physical economy, perhaps artificially intelligence machines\n",
        "can?"
      ],
      "metadata": {
        "id": "Z-gO9_sS0_ca"
      }
    },
    {
      "cell_type": "markdown",
      "source": [
        "A2. This is a really interesting concept that intitally I believe will never work. We have talked a lot about the concept from Hayek of \"local and tacit knowledge\", which fundamentally limits any possible state run/controlled economy. One person or organization cannot do this. The machina economicus project pushes back on this notion more than anything before. With the sheer amount of data and information (tech firms, and individual data) that is available AI comes closer to knowing our indivial \"local and tacit knowledge\".\n",
        "\n",
        "However, there are a few limiting factors in my mind (speaking now, as things may continue to evolve and change):\n",
        "1. Even with the information and data available there is still gaps. There is still aspects of arbitrage and creativity that data cannot portray. As Micheal Jordan says \"our preferences and decisions are fine-grained, contextual, and in-the-moment\".\n",
        "2. It is still humans who are programming, and \"creating\" this machina economicus. If we cannot be relied to optimally allocate resources then we absolutely can rely on a human made and programmed machine (no matter how evolved) to optimally do what we cannot.\n",
        "3. Even if intelligence, creativity, and reasoning can be programmed into this machina economicus, whatever assumptions and reasoning is there cannot be perfect, because the world is ever changing and does not comply to our assumptions."
      ],
      "metadata": {
        "id": "djUBdq4_1FoL"
      }
    },
    {
      "cell_type": "markdown",
      "source": [
        "**Q3.** Compare and contrast Parkes’ and Wellman’s vision for AI with Jordan’s. What is the right microfoundations for\n",
        "the new engineering discipline that Jordan outlines. What are its necessary elements? What should we call this new\n",
        "engineering discipline?"
      ],
      "metadata": {
        "id": "docCJnyN1IZj"
      }
    },
    {
      "cell_type": "markdown",
      "source": [
        "A3. The microfoundations for this new engineering discipline should be interdisciplinary. For the economics foundation it should be on markets, exchange, and institutions. The way that I am interpreting Jordan's Dr. AI article and example is a perfect segway to FinTech. He mentions that instead of focusing solely on replicating the brain and \"thoughts\", we can look to other \"intelligences\" specifically markets.\n",
        "\n",
        "We could insert other industries here as well FinTech, AgTech, and others but the idea is using technology and a wide array of disciplines to create and provide new market opportunities to improve the lives of people! This includes the use of AI.\n",
        "\n",
        "Instead of creating machina economicus, we can create markets!"
      ],
      "metadata": {
        "id": "y10mSDgY1Nnr"
      }
    },
    {
      "cell_type": "markdown",
      "source": [
        "**Q4.** Does Hayek’s Knowledge Problem apply to AI? If so, why? How? If no, why not? Explain!"
      ],
      "metadata": {
        "id": "TQ5KwT7W1QAy"
      }
    },
    {
      "cell_type": "markdown",
      "source": [
        "A4. I think Hayek's Knowledge Problem absolutely applies to AI, because that is exactly what Parkes' and Wellman's goal is to overcome. I think it is a misguided goal that will be weighed, measured, and found wanting.* Humans with their \"local and tacit knowledge\" along with institutions are what make markets work.*\n",
        "\n",
        "The knowledge problems gives rise to arbitrage and allows markets to work unorchestrated by any single or group of people. This continues to hold true for AI. Along with my earlier arguments, another issue is Buchanan's \"creative arbitrage\", AI may get to the point where it has enough information and data to partially coordinate some aspects of markets, however I can't see it ever meeting that high demand of creative arbitrage as practiced by the MGRM case study."
      ],
      "metadata": {
        "id": "HxkihfIm1Tsz"
      }
    },
    {
      "cell_type": "markdown",
      "source": [
        "## Arbitrage, Rationality, and Equillibrium\n",
        "## Part II. Arbitrage in the Catallaxy"
      ],
      "metadata": {
        "id": "ZX1aGi9vXqw1"
      }
    },
    {
      "cell_type": "markdown",
      "source": [
        "### **2.1 Dutch Books and Arbitrage**"
      ],
      "metadata": {
        "id": "vcv8jDbP1V7D"
      }
    },
    {
      "cell_type": "markdown",
      "source": [
        "**Q5.** Following Skyrms [Sky12] demonstrate the Dutch book argument for a Tootsie Roll economy with two flavors:\n",
        "chocolate and cherry. What is the relationship between arbitrage in this simple economy and subjective probability?\n",
        "Does this necessarily give us a derivation of Bayes’ Rule? Why or why not?\n"
      ],
      "metadata": {
        "id": "RfiZST6F1h6j"
      }
    },
    {
      "cell_type": "markdown",
      "source": [
        "A5. The Dutch book argument for a Tootsie Roll economy would go as follows: We have two flavors (chocolate and cherry) Tootsie Rolls and individuals have their own individual subjective probability regarding some events that affect the price of either flavors. Constructing a Dutch book could be making a series of bets to these individuals about the probability of these events occuring and their related prices. If those series of bets are not coherent, the individual sets themselves up for a loss no matter what actually occurs (the events and resulting prices).\n",
        "\n",
        "Arbitrage is similar in trying to make a risk free profit, the ideas hold true for both arbitrage and subjective probabilities creating a Dutch Book: a guarenteed profit/loss for the bet taker/subjective individual.\n",
        "\n",
        "The way I understand is that the idea of arbitrage/Dutch Books do lead us into a better understanding of subjective probabilities and ideas related to that like coherence. Individuals have a prior belief about certain events and how that will change the price of the Cherry or Chocolate (to continue the analogy), and as we experience new information (the time periods increase) we continually update that belief with the new information. We then have our posterior distribution belief and that becomes our prior for the next period. Thus deriving the basic formula and idea of Bayes' Rule! Yes it does."
      ],
      "metadata": {
        "id": "vn4gOehc1moT"
      }
    },
    {
      "cell_type": "markdown",
      "source": [
        "**Q6.** In an insightful paper Ross [Ros87] discusses the arbitrage approach of neoclassical finance and the supply-and demand approach of neoclassical economics. Ross distinguishes between the intuition of finance and the theory of finance?\n",
        "What does he mean by this distinction? Relate his discussion of arbitrage in finance with the Dutch book argument for\n",
        "subjective probability above."
      ],
      "metadata": {
        "id": "nKTtZbaZ1pOL"
      }
    },
    {
      "cell_type": "markdown",
      "source": [
        "A6. Ross posits that the intuition of finance is the absence of arbitrage opportunities. That with *efficient* markets all opportunities to obtain higher than normal profits disappear. However it is arbitrage that gets us to that point!\n",
        "The theory of finance on the other side is trying to take this intuition and mathematize it into models, equations, axioms, propositions, theorems, and other concepts.\n",
        "In my mind the focus on arbitrage (existence or lack thereof) is exactly what bridges the gap of finance and economics although that is not what the majority of people in the separate fields are focusing on.\n",
        "\n",
        "There are a few relations I found in relating arbitrage in finance to the Dutch book for subjective probabilities in question 5.\n",
        "\n",
        "\n",
        "1.   Arbitrage is connected with a risk free profit, while the Dutch book is connected with a sure loss for the individual whose subjective probabilities are not coherent.\n",
        "2.   Both individuals in arbitrage opportunities and subjective individuals should act *rationally* to either take advantage of the arbitrage or to avoid the Dutch book.\n",
        "3. Being consistent and coherent in order to take advantage of gains and/or to avoid losses."
      ],
      "metadata": {
        "id": "HRrB0caB1usb"
      }
    },
    {
      "cell_type": "markdown",
      "source": [
        "### **2.2 Operational-Subjective Probability & Statistics**"
      ],
      "metadata": {
        "id": "JJJAUe5-1xcc"
      }
    },
    {
      "cell_type": "markdown",
      "source": [
        "**Q7.** Nau [Nau01] discusses de Finetti’s operational derivation of probability and Nau and McCardle [NM91] outline their\n",
        "theory of Arbitrage Choice Theory. Discuss the claim that Arbitrage Choice Theory provides an operationally-subjective\n",
        "basis for the catallactic foundation of FinTech and Data Science."
      ],
      "metadata": {
        "id": "Nn2fzCP312j7"
      }
    },
    {
      "cell_type": "markdown",
      "source": [
        "A7. Nau and McCardle talk about how arbitrage or \"no-arbitrage\" is the main principle of what consititutes rationality no preference relations like transitivity and completeness or other axioms and assumptions. I like that because it holds more value or weight. We don't see people acting with complete or transitivy preference all the time, but far more often we do witness people engaging in arbitrage opportunities.\n",
        "\n",
        "*The claim that Arbitrage Choice Theory provides an operationally-subjective basis for catallactic FinTech and Data Science.*\n",
        "\n",
        "---\n",
        "To do this the authors posit that taking advantage of arbitrage opportunities is the way that markets are \"solved\" and we don't need to do lots of optimization problems. It comes down to individuals viewing and adapting to the market and that is what brings the market into equillibrium. Individuals continuing to adapt and change (update) based on new information is exactly what Bayes' Rule is about. Assumptions are still used but they are generally weaker than conventional Neoclassical axioms. The authors argue that we make this operational by applying risk neutral probability distributions and using an individuals subjetive probability (beliefs)."
      ],
      "metadata": {
        "id": "RYdzBPkA144r"
      }
    },
    {
      "cell_type": "markdown",
      "source": [
        "**Q8.** Poirier [Poi11] discusses de Finetti’s representation theorem. The eminent economist David Kreps has called this the\n",
        "Fundamental Theorem of Statistical Inference. Discuss."
      ],
      "metadata": {
        "id": "S_cjmX9D15-L"
      }
    },
    {
      "cell_type": "markdown",
      "source": [
        "A8. Poirier points out seven different results from De Finetti's Representation Theorem. I think that it is interesting to see again the gap between subjective and frequentist points of view. As Poirier states and as we have talked about in class often, \"De Finetti was an ardent subjectivist\", stating that Probability does not exist. Probability is not objective or some reality that we are trying to find out, but instead is one person's belief about that reality.\n",
        "\n",
        "We have this representation theorem that a top Standford economist called fundamental and yet the first time I ever heard anything remotely close about it was from this class (I probably wouldn't hear about it in any other class). While this is of course an important theorem for subjectivist, it would also be very beneficial for frequentists (if only to better understand their assumptions and modeling choices).\n",
        "\n",
        " I still don't understand it all, but I feel like one of the thought provoking results is the first one of providing \"tight connections between Bayesian and fequentist reasoning\". This would means that either side of the camp you find yourself on you can interpret or reason what the other side is doing through this theorem of representation and through exchangeability. I want to go more in depth in understanding more exactly how that works."
      ],
      "metadata": {
        "id": "exE-Bu0P19_V"
      }
    },
    {
      "cell_type": "markdown",
      "source": [
        "## Metallgesellschaft and the Economics of Synthetic Storage\n",
        "### Part III. Arbitrage, Entrepreneurship, and Creativity"
      ],
      "metadata": {
        "id": "OOIGDECxY2Dp"
      }
    },
    {
      "cell_type": "markdown",
      "source": [
        "### **3.1 Futures Markets and Hedging**"
      ],
      "metadata": {
        "id": "YV8erZAh1_7D"
      }
    },
    {
      "cell_type": "markdown",
      "source": [
        "**Q9.** In class we stated that the equilibrium price of a forward contract should behave according to the formula 𝐹0 =\n",
        "𝑆0\n",
        "𝑒\n",
        "𝑟𝑇 . Demonstrate that this is true using the arbitrage principle. Assume that you are dealing with an investment asset\n",
        "that pays no dividends unless stated otherwise. Specifically, answer the following:\n"
      ],
      "metadata": {
        "id": "3feUNdIT2Mp8"
      }
    },
    {
      "cell_type": "markdown",
      "source": [
        "• Suppose 𝐹0 > 𝑆0\n",
        "𝑒\n",
        "𝑟𝑇 . Does this imply an arbitrage opportunity? Explain."
      ],
      "metadata": {
        "id": "-EHHv8wf2W38"
      }
    },
    {
      "cell_type": "markdown",
      "source": [
        "Yes, this would imply an arbitrage opportunity. The way to take advantage of this scenario would be to **borrow** money and **buy** the underlying asset, while simultaneously going **short** in the futures market.\n",
        "\n",
        "At expiration, you would **sell** the asset and and **repay** the money you borrowed (with interest).\n",
        "\n",
        "Net Cash Flow= S0 e^rT - S0 (1+r)^T\n",
        "\n",
        "---\n"
      ],
      "metadata": {
        "id": "30_fIEk6xZ3d"
      }
    },
    {
      "cell_type": "markdown",
      "source": [
        "• Now suppose 𝐹0 < 𝑆0\n",
        "𝑒\n",
        "𝑟𝑇 . Does this imply an arbitrage opportunity? Explain."
      ],
      "metadata": {
        "id": "U4ST-GZh2W-9"
      }
    },
    {
      "cell_type": "markdown",
      "source": [
        "Yes, This would also this would imply an arbitrage opportunity. The way to take advantage of this scenario would be to **borrow** money and **sell** the underlying asset, while simultaneously going **long** in the futures market.\n",
        "\n",
        "At expiration, you would get the asset and **sell** it in the spot market, then you **repay** the money you borrowed (with interest).\n",
        "\n",
        "Net Cash Flow= S0 - S0 e^rT\n",
        "\n",
        "---"
      ],
      "metadata": {
        "id": "kA9BshvOxakU"
      }
    },
    {
      "cell_type": "markdown",
      "source": [
        "• Now assume that you are dealing with either a dividend-paying asset in the form of discrete dollar dividend payments, or a continuous dividend yield. How does this change the pricing equation? Explain"
      ],
      "metadata": {
        "id": "i-kcY6tv2XcM"
      }
    },
    {
      "cell_type": "markdown",
      "source": [
        "With dividends it changes the pricing of the contracts because the holder of the asset obtains additional potential value for holding it.\n",
        "\n",
        "The original (no dividend) equation is: 𝐹0 = 𝑆0 𝑒 𝑟𝑇.\n",
        "\n",
        "With Discrete dividend payments it would be: 𝐹0 = (𝑆0- Di)𝑒^𝑟𝑇i,\n",
        "where Di is the discrete payment at time i at Time Ti.\n",
        "\n",
        "With Continuous payments it would be: 𝐹0 = 𝑆0 𝑒^(𝑟-c)𝑇,\n",
        "where c is the continuous dividend.\n",
        "\n",
        "---\n"
      ],
      "metadata": {
        "id": "I9NJMsxX1RhO"
      }
    },
    {
      "cell_type": "markdown",
      "source": [
        "• Now assume that you are dealing with a consumption commodity with storage costs, and that holding the physical\n",
        "commodity has certain benefits (i.e. a convenience yield). How does this change the pricing equation? Explain."
      ],
      "metadata": {
        "id": "0IuLQocn2XjU"
      }
    },
    {
      "cell_type": "markdown",
      "source": [
        "Storage costs are the expenses incurred to store a commodity while the convenience yield is the benefit of having the physical commodity easily accessible\n",
        "\n",
        "This also changes the pricing equation to:\n",
        "\n",
        "F0 = (S0 - StorageCost) e^(r-y+s)T,\n",
        "\n",
        "where StorageCost is the storage costs, and y is the convience yield, which is substracted from the interest rate, s is the storage cost rate.\n",
        "\n",
        "---\n"
      ],
      "metadata": {
        "id": "E2-zMFxO3UQO"
      }
    },
    {
      "cell_type": "markdown",
      "source": [
        "• In class we argued that all of this depends upon the possibility of physical delivery of the contract, which guarantees\n",
        "that 𝐹𝑇 = 𝑆𝑇\n",
        ", that is that the futures price at maturity is equal to the spot price at maturity. First, explain why that\n",
        "is. Second, what would happen if 𝐹𝑇 ≠ 𝑆𝑇\n",
        "? Carefully explain."
      ],
      "metadata": {
        "id": "v-VPv5QI2XqE"
      }
    },
    {
      "cell_type": "markdown",
      "source": [
        "Physical delivery helps guarantee that FT = ST because if it did not, arbitrage opportunities would occur. Depending on if FT > ST or FT < ST buyers and sellers would rather buy/sell in the spot market and not in the agreed upon forward price contract or not buy/sell at all. This would cause issues with the integrity of the system.\n",
        "However, when FT != ST that gives rise to arbitrage opportunities as mentioned which will mean buyers and sellers will adjust their actions, eventually leading the market back to the point in equillibrium when FT = ST.\n",
        "\n",
        "---\n"
      ],
      "metadata": {
        "id": "vcWgm1TcBNsb"
      }
    },
    {
      "cell_type": "markdown",
      "source": [
        "• Consider a new kind of forward contract called a prepaid forward. It is very similar to a standard forward contract.\n",
        "The only difference is that the long party pays the short party at time 𝑡 = 0, but still takes delivery from the\n",
        "short party at 𝑡 = 𝑇 . How must the standard pricing formula be modified to properly price the prepaid forward?\n",
        "Carefully explain your logic. Why would anyone ever want to transact in such a contract? Do we actually see\n",
        "prepaid forward contracts in the real world, or only in finance textbooks?\n"
      ],
      "metadata": {
        "id": "sd0Zybvh2YEE"
      }
    },
    {
      "cell_type": "markdown",
      "source": [
        "The pricing formula would be modified for a prepaid forward, essentially being this equation:\n",
        "F0 = (S0 - P)/e^rT,\n",
        "\n",
        "where P is the price amount of the prepaid forward contract.\n",
        "\n",
        "We do see this in real life, though they are a lot less common that normal forward contract. **They effectively help to reduce uncertainty in the market, especially for the short party (sellers). People may do this for financial needs as well.** Examples could include ag delivery shipments, when the grower is paid beforehand for delivery at a future date.\n",
        "\n",
        "---"
      ],
      "metadata": {
        "id": "ma_6WEZZCKFd"
      }
    },
    {
      "cell_type": "markdown",
      "source": [
        "Q10. In the Midterm folder on Canvas there is a subfolder titled Data. In it you will find historical nearby daily settlement\n",
        "futures prices as well as daily New York Harbor spot prices for WTI Crude Oil for the period 01/01/1992 to 12/31/1993.\n",
        "Using these data answer the following questions:"
      ],
      "metadata": {
        "id": "ragTOdzU27mN"
      }
    },
    {
      "cell_type": "markdown",
      "source": [
        "Q11."
      ],
      "metadata": {
        "id": "IKjJZUAL29L9"
      }
    },
    {
      "cell_type": "markdown",
      "source": [
        "Q12."
      ],
      "metadata": {
        "id": "EIwAe4x_KpWm"
      }
    },
    {
      "cell_type": "markdown",
      "source": [
        "### **3.2 MGRMs Hedging Revisited**"
      ],
      "metadata": {
        "id": "Z0i7XvlIKo9p"
      }
    },
    {
      "cell_type": "markdown",
      "source": [
        "Q13."
      ],
      "metadata": {
        "id": "lUZZ1sUhK0Bp"
      }
    },
    {
      "cell_type": "code",
      "source": [],
      "metadata": {
        "id": "rfF6sDcGK2zt"
      },
      "execution_count": null,
      "outputs": []
    }
  ]
}